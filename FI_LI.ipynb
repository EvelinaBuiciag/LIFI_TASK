{
  "nbformat": 4,
  "nbformat_minor": 0,
  "metadata": {
    "colab": {
      "provenance": [],
      "toc_visible": true,
      "authorship_tag": "ABX9TyOeCiF/6e30tuSavdgGjtrT",
      "include_colab_link": true
    },
    "kernelspec": {
      "name": "python3",
      "display_name": "Python 3"
    },
    "language_info": {
      "name": "python"
    }
  },
  "cells": [
    {
      "cell_type": "markdown",
      "metadata": {
        "id": "view-in-github",
        "colab_type": "text"
      },
      "source": [
        "<a href=\"https://colab.research.google.com/github/EvelinaBuiciag/LIFI_TASK/blob/main/FI_LI.ipynb\" target=\"_parent\"><img src=\"https://colab.research.google.com/assets/colab-badge.svg\" alt=\"Open In Colab\"/></a>"
      ]
    },
    {
      "cell_type": "code",
      "execution_count": 1,
      "metadata": {
        "colab": {
          "base_uri": "https://localhost:8080/"
        },
        "id": "LLJBviONV8mo",
        "outputId": "3f656c31-76c1-429f-c43e-4bb6a7121f3f"
      },
      "outputs": [
        {
          "output_type": "stream",
          "name": "stdout",
          "text": [
            "Looking in indexes: https://pypi.org/simple, https://us-python.pkg.dev/colab-wheels/public/simple/\n",
            "Requirement already satisfied: requests in /usr/local/lib/python3.10/dist-packages (2.27.1)\n",
            "Requirement already satisfied: urllib3<1.27,>=1.21.1 in /usr/local/lib/python3.10/dist-packages (from requests) (1.26.15)\n",
            "Requirement already satisfied: certifi>=2017.4.17 in /usr/local/lib/python3.10/dist-packages (from requests) (2022.12.7)\n",
            "Requirement already satisfied: charset-normalizer~=2.0.0 in /usr/local/lib/python3.10/dist-packages (from requests) (2.0.12)\n",
            "Requirement already satisfied: idna<4,>=2.5 in /usr/local/lib/python3.10/dist-packages (from requests) (3.4)\n"
          ]
        }
      ],
      "source": [
        "!pip install requests"
      ]
    },
    {
      "cell_type": "code",
      "source": [
        "import requests\n",
        "\n",
        "# Function to get supported chains\n",
        "def get_supported_chains():\n",
        "    url = \"https://li.quest/v1/chains\"\n",
        "    headers = {\"accept\": \"application/json\"}\n",
        "    response = requests.get(url, headers=headers)\n",
        "    return response.json()\n",
        "\n",
        "# Function to get a quote for token transfer\n",
        "def get_token_transfer_quote(from_chain, to_chain, from_token, to_token, amount):\n",
        "    url = \"https://li.quest/v1/quote\"\n",
        "    headers = {\"accept\": \"application/json\"}\n",
        "    params = {\n",
        "        \"fromChain\": from_chain,\n",
        "        \"toChain\": to_chain,\n",
        "        \"fromToken\": from_token,\n",
        "        \"toToken\": to_token,\n",
        "        \"amount\": amount\n",
        "    }\n",
        "    response = requests.get(url, headers=headers, params=params)\n",
        "    return response.json()\n",
        "\n",
        "# Task 1: Fetch quotes for swapping 1,000 USDC from all supported chains to USDT on all other supported chains\n",
        "supported_chains = get_supported_chains()\n",
        "quotes = []\n",
        "for from_chain in supported_chains:\n",
        "    for to_chain in supported_chains:\n",
        "        if from_chain != to_chain:\n",
        "            quote = get_token_transfer_quote(from_chain, to_chain, \"USDC\", \"USDT\", 1000)\n",
        "            quotes.append(quote)\n",
        "\n",
        "# Task 2: Calculate costs incurred by the user, including gas, and sort the costs in descending order\n",
        "costs = []\n",
        "for quote in quotes:\n",
        "    cost = quote[\"transactionRequest\"][\"estimatedGas\"]\n",
        "    costs.append(cost)\n",
        "sorted_costs = sorted(costs, reverse=True)\n",
        "\n",
        "# Task 3: Create a count of how many times a bridge is recommended and how many times no bridge was recommended\n",
        "bridge_count = 0\n",
        "no_bridge_count = 0\n",
        "for quote in quotes:\n",
        "    bridge_recommended = quote[\"bridgeRecommended\"]\n",
        "    if bridge_recommended:\n",
        "        bridge_count += 1\n",
        "    else:\n",
        "        no_bridge_count += 1\n",
        "\n",
        "# Print the results\n",
        "print(\"Sorted costs in descending order:\", sorted_costs)\n",
        "print(\"Bridge recommended count:\", bridge_count)\n",
        "print(\"No bridge recommended count:\", no_bridge_count)\n"
      ],
      "metadata": {
        "colab": {
          "base_uri": "https://localhost:8080/"
        },
        "id": "PsqrBuIGWBwe",
        "outputId": "c83d89e4-fce1-4c34-8b69-3144d73bc3a8"
      },
      "execution_count": 2,
      "outputs": [
        {
          "output_type": "stream",
          "name": "stdout",
          "text": [
            "Sorted costs in descending order: []\n",
            "Bridge recommended count: 0\n",
            "No bridge recommended count: 0\n"
          ]
        }
      ]
    }
  ]
}